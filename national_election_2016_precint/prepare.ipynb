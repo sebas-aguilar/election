{
 "cells": [
  {
   "cell_type": "code",
   "execution_count": 4,
   "metadata": {},
   "outputs": [],
   "source": [
    "import pandas as pd\n",
    "import numpy as np\n",
    "\n",
    "# keepCols = ['state','state_postal','state_fips','state_icpsr','county_name','county_fips',#'county_lat','county_long',\n",
    "#             'jurisdiction','precinct','votes','candidate_normalized','office','writein',\n",
    "#             'party','mode']\n",
    "\n",
    "keepCols = ['state_postal','state_fips','state_icpsr','county_name','jurisdiction',\n",
    "            'precinct','county_fips','votes','candidate_normalized','party']\n",
    "dtypes = {\"state_postal\":\"object\",\"states_fips\":np.int64,\"state_icpsr\":np.int64,\"county_name\":\"object\",\"jurisdiction\":str,\n",
    "          \"precinct\":str,\"county_fips\":str,\"candidate_normalized\":\"object\",\"party\":\"object\",\"votes\":np.int64}\n",
    "\n",
    "df = pd.read_csv('data\\\\2016-precinct-president.csv',encoding=\"ISO-8859-1\", low_memory=False, usecols=keepCols, dtype=dtypes)\n",
    "# print(df.info())\n",
    "# print(df['mode'].unique())\n",
    "df['county_fips']=df['county_fips'].apply(lambda x: '{0:0>5}'.format(x) if len(str(x)) < 5 else str(x))\n",
    "\n",
    "# Missing county_fips for Alaska and Hawaii"
   ]
  },
  {
   "cell_type": "code",
   "execution_count": 6,
   "metadata": {},
   "outputs": [
    {
     "name": "stderr",
     "output_type": "stream",
     "text": [
      "<ipython-input-6-c3d24a7a266d>:35: RuntimeWarning: invalid value encountered in true_divide\n",
      "  df.loc[indices,['votes_normalized']] = sub_df['votes'][indices].values/total_votes\n"
     ]
    }
   ],
   "source": [
    "# Assign new winner column, will update to correct value\n",
    "df = df.assign(winner=np.full_like(df['candidate_normalized'], 'None', dtype=str))\n",
    "df = df.assign(total_county_votes=np.full_like(df['candidate_normalized'], 0, dtype=np.int64))\n",
    "df = df.assign(votes_normalized=np.full_like(df['candidate_normalized'], 0, dtype=np.float64))\n",
    "\n",
    "\n",
    "\n",
    "grouped = df[['state_postal','county_fips','jurisdiction','precinct','candidate_normalized','votes']].groupby(by=['state_postal','county_fips','jurisdiction'])\n",
    "\n",
    "for group in grouped:\n",
    "    sub_df = group[1]\n",
    "    \n",
    "    tallies = []\n",
    "    total_votes = 0\n",
    "    \n",
    "    # Loop through candidates\n",
    "    candidates = sub_df['candidate_normalized'].unique()\n",
    "    for _ in range(len(candidates)):\n",
    "        candidate = candidates[_]\n",
    "        subsub_df = sub_df.query(\"candidate_normalized==@candidate\")\n",
    "        tallies.append([str(candidate),int(subsub_df['votes'].sum())])\n",
    "        total_votes += subsub_df['votes'].sum()\n",
    "\n",
    "    # Calculate winner\n",
    "    winner_index = max(range(len(tallies)), key=lambda i: tallies[i][1])\n",
    "    winning_candidate = tallies[winner_index][0]\n",
    "    \n",
    "    # List of indices to change the 'winner' column\n",
    "    indices = sub_df.index.tolist()\n",
    "\n",
    "    df.loc[indices,['winner']] = winning_candidate\n",
    "    df.loc[indices,['total_county_votes']] = total_votes\n",
    "    try:\n",
    "        df.loc[indices,['votes_normalized']] = sub_df['votes'][indices].values/total_votes\n",
    "    except:\n",
    "        print(sub_df['votes'][indices])\n",
    "        print(total_votes)\n",
    "        print(indices)\n",
    "        break\n"
   ]
  },
  {
   "cell_type": "markdown",
   "metadata": {},
   "source": [
    "# Write cleaned/prepared DataFrame to csv file"
   ]
  },
  {
   "cell_type": "code",
   "execution_count": 10,
   "metadata": {},
   "outputs": [],
   "source": [
    "df.to_csv('data\\\\2016-precinct-president-prepared.csv')\n",
    "print(df.info())"
   ]
  },
  {
   "cell_type": "code",
   "execution_count": 11,
   "metadata": {},
   "outputs": [
    {
     "name": "stdout",
     "output_type": "stream",
     "text": [
      "<class 'pandas.core.frame.DataFrame'>\n",
      "RangeIndex: 1989234 entries, 0 to 1989233\n",
      "Data columns (total 13 columns):\n",
      " #   Column                Dtype  \n",
      "---  ------                -----  \n",
      " 0   state_postal          object \n",
      " 1   state_fips            int64  \n",
      " 2   state_icpsr           int64  \n",
      " 3   county_name           object \n",
      " 4   county_fips           object \n",
      " 5   jurisdiction          object \n",
      " 6   precinct              object \n",
      " 7   candidate_normalized  object \n",
      " 8   party                 object \n",
      " 9   votes                 int64  \n",
      " 10  winner                object \n",
      " 11  total_county_votes    int64  \n",
      " 12  votes_normalized      float64\n",
      "dtypes: float64(1), int64(4), object(8)\n",
      "memory usage: 197.3+ MB\n",
      "None\n"
     ]
    }
   ],
   "source": [
    "print(df.info())"
   ]
  }
 ],
 "metadata": {
  "kernelspec": {
   "display_name": "Python 3",
   "language": "python",
   "name": "python3"
  },
  "language_info": {
   "codemirror_mode": {
    "name": "ipython",
    "version": 3
   },
   "file_extension": ".py",
   "mimetype": "text/x-python",
   "name": "python",
   "nbconvert_exporter": "python",
   "pygments_lexer": "ipython3",
   "version": "3.8.6rc1"
  }
 },
 "nbformat": 4,
 "nbformat_minor": 4
}
