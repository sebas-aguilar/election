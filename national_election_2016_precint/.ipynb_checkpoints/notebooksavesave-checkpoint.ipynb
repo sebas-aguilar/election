{
 "cells": [
  {
   "cell_type": "markdown",
   "metadata": {},
   "source": [
    "# Read in the prepared 2016 presidential precint level data"
   ]
  },
  {
   "cell_type": "code",
   "execution_count": null,
   "metadata": {},
   "outputs": [],
   "source": [
    "import pandas as pd\n",
    "import numpy as np\n",
    "\n",
    "keepCols = ['state_postal','state_fips','state_icpsr','county_name','county_fips','jurisdiction','precinct',\n",
    "            'candidate_normalized','party','votes','winner','total_county_votes','votes_normalized']\n",
    "\n",
    "dtypes = {\"state_postal\":str,\n",
    "          \"states_fips\":np.int64,\n",
    "          \"state_icpsr\":np.int64,\n",
    "          \"county_name\":str,\n",
    "          \"county_fips\":str,\n",
    "          \"jurisdiction\":str,\n",
    "          \"precinct\":str,          \n",
    "          \"candidate_normalized\":str,\n",
    "          \"party\":str,\n",
    "          \"votes\":np.int64,\n",
    "          \"winner\":str,\n",
    "          \"total_county_votes\":np.int64,\n",
    "          \"votes_normalized\":np.float64\n",
    "         }\n",
    "\n",
    "df = pd.read_csv('data\\\\2016-precinct-president-prepared.csv',encoding=\"ISO-8859-1\", low_memory=False, usecols=keepCols, dtype=dtypes)\n",
    "# print(df.info())"
   ]
  },
  {
   "cell_type": "markdown",
   "metadata": {},
   "source": [
    "# Trim the data excluding the minority candidates"
   ]
  },
  {
   "cell_type": "code",
   "execution_count": null,
   "metadata": {},
   "outputs": [],
   "source": [
    "top4 = df[['candidate_normalized','votes']].groupby('candidate_normalized').sum().sort_values(by='votes', ascending=False)[:4]\n",
    "trim_df = df.query('candidate_normalized in @top4.index.values')\n",
    "\n",
    "df.drop(columns=['state_fips','state_icpsr','party'], inplace=True)\n",
    "\n",
    "# Free up some memory from the much larger dataframe\n",
    "del df\n",
    "\n",
    "# print(trim_df.info())"
   ]
  },
  {
   "cell_type": "markdown",
   "metadata": {},
   "source": [
    "# Seems like missing some Alaska and Hawaii (county_fips code missing). Also the colorscale has to be normalized"
   ]
  },
  {
   "cell_type": "code",
   "execution_count": null,
   "metadata": {},
   "outputs": [],
   "source": [
    "import plotly.express as px\n",
    "from urllib.request import urlopen\n",
    "import json\n",
    "\n",
    "\n",
    "# Load the geojson file (required) for plotly county plots. If it fails grab the file from internet and save it\n",
    "try:\n",
    "    counties = json.load(\"data\\\\geojson-counties-fips.json\")\n",
    "except:\n",
    "    with urlopen(\"https://raw.githubusercontent.com/plotly/datasets/master/geojson-counties-fips.json\") as response:\n",
    "        counties = json.load(response)\n",
    "        with open(\"data\\\\geojson-counties-fips.json\",\"w\") as json_file:\n",
    "            json.dump(counties, json_file)\n",
    "    \n",
    "    \n",
    "colors = {\"clinton\":\"blues\",\"trump\":\"reds\",\"johnson\":\"greys\",\"stein\":\"greens\"}\n",
    "\n",
    "for candidate in top4[:2].index.values:\n",
    "    aggregate= {\"state_postal\":\"first\",\"state_fips\":\"first\",\"state_icpsr\":\"first\",\n",
    "                \"county_name\":\"first\",\"candidate_normalized\":\"first\",\"party\":\"first\",\"votes\":\"sum\"}\n",
    "    trimmed_df = trim_df.query(\"candidate_normalized==@candidate\").groupby(by='county_fips').agg(func=aggregate).reset_index()\n",
    "    print(\"{} - Precinct Turnout 2016 Election\".format(candidate.upper()))\n",
    "    fig = px.choropleth_mapbox(trimmed_df, geojson=counties, locations=\"county_fips\", color=\"votes\",\n",
    "                               color_continuous_scale=colors[candidate],\n",
    "                               hover_name=\"county_name\",\n",
    "#                                title='@candidate.upper() - Precinct Turnout 2016 Election', # NOT WORKING\n",
    "#                                mapbox_style=\"carto-positron\",\n",
    "                               mapbox_style=\"carto-darkmatter\",\n",
    "#                                mapbox_style=\"open-street-map\",\n",
    "#                                mapbox_style=\"stamen-toner\",\n",
    "#                                mapbox_style=\"stamen-watercolor\",\n",
    "                               center = {\"lat\": 40.0902, \"lon\": -95.7129}, zoom=3, \n",
    "#                                opacity=0.5,\n",
    "                               labels={\"votes\":\"Votes\"}\n",
    "                          )\n",
    "    fig.update_geos(showrivers=True, rivercolor=\"Blue\", resolution=50)\n",
    "    fig.update_layout(margin={\"r\":0,\"t\":0,\"l\":0,\"b\":0})\n",
    "    fig.write_image(\"images/{}_precinct_level.png\".format(candidate))\n",
    "    fig.write_html(\"images/{}_precinct_level.html\".format(candidate))\n",
    "    fig.show()\n",
    "    print('\\n')"
   ]
  },
  {
   "cell_type": "markdown",
   "metadata": {},
   "source": [
    "# Normalized electoral county level plots"
   ]
  },
  {
   "cell_type": "code",
   "execution_count": null,
   "metadata": {},
   "outputs": [],
   "source": [
    "import plotly.express as px\n",
    "from urllib.request import urlopen\n",
    "import json\n",
    "\n",
    "\n",
    "# Load the geojson file (required) for plotly county plots. If it fails grab the file from internet and save it\n",
    "try:\n",
    "    counties = json.load(\"data\\\\geojson-counties-fips.json\")\n",
    "except:\n",
    "    with urlopen(\"https://raw.githubusercontent.com/plotly/datasets/master/geojson-counties-fips.json\") as response:\n",
    "        counties = json.load(response)\n",
    "        with open(\"data\\\\geojson-counties-fips.json\", \"w\") as json_file:\n",
    "            json.dump(counties, json_file)\n",
    "    \n",
    "    \n",
    "colors = {\"clinton\":\"blues\",\"trump\":\"reds\",\"johnson\":\"greys\",\"stein\":\"greens\"}\n",
    "\n",
    "for candidate in top4[:2].index.values:\n",
    "    aggregate= {\"state_postal\":\"first\",\"state_fips\":\"first\",\"state_icpsr\":\"first\",\"county_name\":\"first\",\n",
    "                \"candidate_normalized\":\"first\",\"party\":\"first\",\"votes_normalized\":\"sum\"}\n",
    "    trimmed_df = trim_df.query(\"candidate_normalized==@candidate\").groupby(by=[\"county_fips\",\"jurisdiction\"]).agg(func=aggregate).reset_index()\n",
    "    print(\"{} - Precinct Turnout 2016 Election\".format(candidate.upper()))\n",
    "    fig = px.choropleth_mapbox(trimmed_df, geojson=counties, locations=\"county_fips\", color=\"votes_normalized\",\n",
    "                               color_continuous_scale=colors[candidate],\n",
    "                               hover_name=\"county_name\",\n",
    "#                                title='@candidate.upper() - Precinct Turnout 2016 Election', # NOT WORKING\n",
    "#                                mapbox_style=\"carto-positron\",\n",
    "                               mapbox_style=\"carto-darkmatter\",\n",
    "#                                mapbox_style=\"open-street-map\",\n",
    "#                                mapbox_style=\"stamen-toner\",\n",
    "#                                mapbox_style=\"stamen-watercolor\",\n",
    "                               center = {\"lat\": 40.0902, \"lon\": -95.7129}, zoom=3, \n",
    "#                                opacity=0.5,\n",
    "                               labels={\"votes_normalized\":\"Normalized Votes\"}\n",
    "                          )\n",
    "    fig.update_geos(showrivers=True, rivercolor=\"Blue\", resolution=50)\n",
    "    fig.update_layout(margin={\"r\":0,\"t\":0,\"l\":0,\"b\":0})\n",
    "    fig.write_image(\"images/{}_precinct_level_normalized.png\".format(candidate))\n",
    "    fig.write_html(\"images/{}_precinct_level_normalized.html\".format(candidate))\n",
    "    fig.show()\n",
    "    print('\\n')"
   ]
  },
  {
   "cell_type": "markdown",
   "metadata": {},
   "source": [
    "# Plot winners by county"
   ]
  },
  {
   "cell_type": "code",
   "execution_count": null,
   "metadata": {},
   "outputs": [],
   "source": [
    "# import plotly.express as px\n",
    "# from urllib.request import urlopen\n",
    "# import json\n",
    "\n",
    "\n",
    "# # Load the geojson file (required) for plotly county plots. If it fails grab the file from internet and save it\n",
    "# try:\n",
    "#     counties = json.load(\"data\\\\geojson-counties-fips.json\")\n",
    "# except:\n",
    "#     with urlopen(\"https://raw.githubusercontent.com/plotly/datasets/master/geojson-counties-fips.json\") as response:\n",
    "#         counties = json.load(response)\n",
    "#         with open(\"data\\\\geojson-counties-fips.json\", \"w\") as json_file:\n",
    "#             json.dump(counties, json_file)\n",
    "    \n",
    "    \n",
    "# colors = {\"clinton\":\"blue\",\"trump\":\"red\",\"johnson\":\"grey\",\"stein\":\"green\"}\n",
    "\n",
    "\n",
    "# print(\"County level 2016 Election\".format(candidate.upper()))\n",
    "# fig = px.choropleth_mapbox(trim_df, geojson=counties, locations=\"county_fips\", color=\"winner\",\n",
    "#                            color_discrete_map=colors,\n",
    "# #                            labels={\"winner\":\"Party\"},\n",
    "#                            hover_name=\"county_name\",\n",
    "# #                            title='@candidate.upper() - Precinct Turnout 2016 Election', # NOT WORKING\n",
    "# #                            mapbox_style=\"carto-positron\",\n",
    "#                            mapbox_style=\"carto-darkmatter\",\n",
    "# #                            mapbox_style=\"open-street-map\",\n",
    "# #                            mapbox_style=\"stamen-toner\",\n",
    "# #                            mapbox_style=\"stamen-watercolor\",\n",
    "#                            center = {\"lat\": 40.0902, \"lon\": -95.7129}, zoom=3, \n",
    "# #                            opacity=0.5,\n",
    "#                            labels={\"votes_normalized\":\"Normalized Votes\"}\n",
    "#                           )\n",
    "# fig.update_geos(showrivers=True, rivercolor=\"Blue\", resolution=50)\n",
    "# fig.update_layout(margin={\"r\":0,\"t\":0,\"l\":0,\"b\":0})\n",
    "# fig.write_image(\"images/{}_precinct_level_county_winners.png\".format(candidate))\n",
    "# fig.write_html(\"images/{}_precinct_level_county_winners.html\".format(candidate))\n",
    "# fig.show()"
   ]
  },
  {
   "cell_type": "code",
   "execution_count": null,
   "metadata": {},
   "outputs": [],
   "source": [
    "del trim_df"
   ]
  }
 ],
 "metadata": {
  "kernelspec": {
   "display_name": "Python 3",
   "language": "python",
   "name": "python3"
  },
  "language_info": {
   "codemirror_mode": {
    "name": "ipython",
    "version": 3
   },
   "file_extension": ".py",
   "mimetype": "text/x-python",
   "name": "python",
   "nbconvert_exporter": "python",
   "pygments_lexer": "ipython3",
   "version": "3.8.6rc1"
  }
 },
 "nbformat": 4,
 "nbformat_minor": 4
}
